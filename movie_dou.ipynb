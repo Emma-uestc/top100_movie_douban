{
 "cells": [
  {
   "cell_type": "code",
   "execution_count": 7,
   "metadata": {},
   "outputs": [
    {
     "name": "stdout",
     "output_type": "stream",
     "text": [
      "肖申克的救赎,9.6,蒂姆·罗宾斯 摩根·弗里曼 鲍勃·冈顿 威廉姆·赛德勒 克兰西·布朗,https://movie.douban.com/subject/1292052/\n",
      "\n",
      "这个杀手不太冷,9.4,让·雷诺 娜塔莉·波特曼 加里·奥德曼 丹尼·爱罗 彼得·阿佩尔,https://movie.douban.com/subject/1295644/\n",
      "\n",
      "阿甘正传,9.4,汤姆·汉克斯 罗宾·怀特 加里·西尼斯 麦凯尔泰·威廉逊 莎莉·菲尔德,https://movie.douban.com/subject/1292720/\n",
      "\n",
      "泰坦尼克号,9.2,莱昂纳多·迪卡普里奥 凯特·温丝莱特 比利·赞恩 凯西·贝茨 弗兰西丝·费舍,https://movie.douban.com/subject/1292722/\n",
      "\n",
      "千与千寻,9.2,柊瑠美 入野自由 夏木真理 菅原文太 内藤刚志,https://movie.douban.com/subject/1291561/\n",
      "\n",
      "三傻大闹宝莱坞,9.1,阿米尔·汗 卡琳娜·卡普尔 马达范 沙尔曼·乔希 奥米·瓦依达,https://movie.douban.com/subject/3793023/\n",
      "\n",
      "海上钢琴师,9.2,蒂姆·罗斯 普路特·泰勒·文斯 比尔·努恩 梅兰尼·蒂埃里 阿尔贝托·巴斯克斯,https://movie.douban.com/subject/1292001/\n",
      "\n",
      "当幸福来敲门,8.9,威尔·史密斯 贾登·史密斯 坦迪·牛顿 布莱恩·豪威  詹姆斯·凯伦,https://movie.douban.com/subject/1849031/\n",
      "\n",
      "少年派的奇幻漂流,9.0,苏拉·沙玛 拉菲·斯波 伊尔凡·可汗 热拉尔·德帕迪约 塔布,https://movie.douban.com/subject/1929463/\n",
      "\n",
      "天使爱美丽,8.7,奥黛丽·塔图 马修·卡索维茨 吕菲斯 洛莱拉·克拉沃塔 塞尔日·梅兰,https://movie.douban.com/subject/1292215/\n",
      "\n",
      "飞屋环游记,8.9,爱德华·阿斯纳 克里斯托弗·普卢默 乔丹·长井 鲍勃·彼德森 戴尔里·林多,https://movie.douban.com/subject/2129039/\n",
      "\n",
      "机器人总动员,9.3,本·贝尔特 艾丽莎·奈特 杰夫·格尔林 佛莱德·威拉特,https://movie.douban.com/subject/2131459/\n",
      "\n",
      "那些年，我们一起追的女孩,8.1,柯震东 陈妍希 敖犬 郝劭文 蔡昌宪,https://movie.douban.com/subject/4920528/\n",
      "\n",
      "放牛班的春天,9.2,热拉尔·朱尼奥 让-巴蒂斯特·莫尼耶 弗朗索瓦·贝莱昂 凯德·麦拉德 玛丽·布奈尔,https://movie.douban.com/subject/1291549/\n",
      "\n",
      "楚门的世界,9.1,金·凯瑞 劳拉·琳妮 艾德·哈里斯 诺亚·艾默里奇 娜塔莎·麦克艾霍恩,https://movie.douban.com/subject/1292064/\n",
      "\n",
      "忠犬八公的故事,9.2,理查·基尔 萨拉·罗默尔 琼·艾伦 罗比·萨布莱特 艾瑞克·阿瓦利,https://movie.douban.com/subject/3011091/\n",
      "\n",
      "初恋这件小事,8.3,平采娜·乐维瑟派布恩 马里奥·毛瑞尔 苏达拉·布查蓬 雅尼卡·桑普蕾舞 诺特·阿查拉那·阿瑞亚卫考,https://movie.douban.com/subject/4739952/\n",
      "\n",
      "疯狂动物城,9.2,金妮弗·古德温 杰森·贝特曼 伊德里斯·艾尔巴 珍妮·斯蕾特 内特·托伦斯,https://movie.douban.com/subject/25662329/\n",
      "\n",
      "美丽人生,9.5,罗伯托·贝尼尼 尼可莱塔·布拉斯基 乔治·坎塔里尼 朱斯蒂诺·杜拉诺 赛尔乔·比尼·布斯特里克,https://movie.douban.com/subject/1292063/\n",
      "\n",
      "黑天鹅,8.5,娜塔莉·波特曼 米拉·库尼斯 文森特·卡索 芭芭拉·赫希 薇诺娜·瑞德,https://movie.douban.com/subject/1978709/\n",
      "\n",
      "辛德勒的名单,9.4,连姆·尼森 本·金斯利 拉尔夫·费因斯 卡罗琳·古多尔 乔纳森·萨加尔,https://movie.douban.com/subject/1295124/\n",
      "\n",
      "贫民窟的百万富翁,8.5,戴夫·帕特尔 沙鲁巴·舒克拉 亚尼·卡普 Rajendranath Zutshi 吉尼瓦·塔瓦尔,https://movie.douban.com/subject/2209573/\n",
      "\n",
      "人再囧途之泰囧,7.4,徐峥 王宝强 黄渤 陶虹 谢楠,https://movie.douban.com/subject/10574622/\n",
      "\n",
      "本杰明·巴顿奇事,8.7,凯特·布兰切特 布拉德·皮特 朱莉娅·奥蒙德 芳妮·A·钱勃丝 伊莱亚斯·科泰斯,https://movie.douban.com/subject/1485260/\n",
      "\n",
      "失恋33天,7.3,白百何 文章 张嘉译 王耀庆 张子萱,https://movie.douban.com/subject/4873490/\n",
      "\n",
      "教父,9.2,马龙·白兰度 阿尔·帕西诺 詹姆斯·肯恩 理查德·卡斯特尔诺 罗伯特·杜瓦尔,https://movie.douban.com/subject/1291841/\n",
      "\n",
      "战狼2,7.2,吴京 弗兰克·格里罗 吴刚 张翰 卢靖姗,https://movie.douban.com/subject/26363254/\n",
      "\n",
      "触不可及,9.1,弗朗索瓦·克鲁塞 奥玛·希 安娜·勒尼 奥德雷·弗勒罗 托马·索利韦尔,https://movie.douban.com/subject/6786002/\n",
      "\n",
      "摔跤吧！爸爸,9.1,阿米尔·汗 法缇玛·萨那·纱卡 桑亚·玛荷塔 阿帕尔夏克提·库拉那 沙克希·坦沃,https://movie.douban.com/subject/26387939/\n",
      "\n",
      "北京遇上西雅图,7.4,汤唯 吴秀波 海清 宋美曼 宋美慧,https://movie.douban.com/subject/10574468/\n",
      "\n",
      "疯狂原始人,8.7,尼古拉斯·凯奇 瑞安·雷诺兹 艾玛·斯通 凯瑟琳·基纳 克拉克·杜克,https://movie.douban.com/subject/1907966/\n",
      "\n",
      "闻香识女人,8.9,阿尔·帕西诺 克里斯·奥唐纳 詹姆斯·瑞布霍恩 加布里埃尔·安瓦尔 菲利普·塞默·霍夫曼,https://movie.douban.com/subject/1298624/\n",
      "\n",
      "穿普拉达的女王,7.9,安妮·海瑟薇 梅丽尔·斯特里普 艾米莉·布朗特 斯坦利·图齐 西蒙·贝克,https://movie.douban.com/subject/1482072/\n",
      "\n",
      "国王的演讲,8.3,科林·费尔斯 杰弗里·拉什 海伦娜·伯翰·卡特 盖·皮尔斯 迈克尔·刚本,https://movie.douban.com/subject/4023638/\n",
      "\n",
      "天堂电影院,9.1,安东内拉·阿蒂利 恩佐·卡拉瓦勒 艾萨·丹尼埃利 里奥·故罗塔 马克·莱昂纳蒂,https://movie.douban.com/subject/1291828/\n",
      "\n",
      "超能陆战队,8.6,斯科特·安第斯 瑞恩·波特 丹尼尔·海尼 T·J·米勒 杰米·钟,https://movie.douban.com/subject/11026735/\n",
      "\n",
      "中国合伙人,7.6,黄晓明 邓超 佟大为 杜鹃,https://movie.douban.com/subject/11529526/\n",
      "\n",
      "勇敢的心,8.8,梅尔·吉布森 苏菲·玛索 布莱恩·考克斯 詹姆斯·卡沙莫 辛·劳洛,https://movie.douban.com/subject/1294639/\n",
      "\n",
      "美丽心灵,8.9,罗素·克劳 詹妮弗·康纳利 艾德·哈里斯 克里斯托弗·普卢默 保罗·贝坦尼,https://movie.douban.com/subject/1306029/\n",
      "\n",
      "指环王1：魔戒再现,8.9,伊利亚·伍德 西恩·奥斯汀 伊恩·麦克莱恩 维果·莫腾森 奥兰多·布鲁姆,https://movie.douban.com/subject/1291571/\n",
      "\n",
      "喜剧之王,8.5,周星驰 张柏芝 莫文蔚 吴孟达 林子善,https://movie.douban.com/subject/1302425/\n",
      "\n",
      "致我们终将逝去的青春,6.6,杨子姗 赵又廷 韩庚 江疏影 刘雅瑟,https://movie.douban.com/subject/6973376/\n",
      "\n",
      "狮子王,8.9,乔纳森·泰勒·托马斯 马修·布罗德里克 杰瑞米·艾恩斯 詹姆斯·厄尔·琼斯 莫伊拉·凯利,https://movie.douban.com/subject/1301753/\n",
      "\n",
      "功夫熊猫,7.9,杰克·布莱克 达斯汀·霍夫曼 安吉丽娜·朱莉 伊恩·麦柯肖恩 成龙,https://movie.douban.com/subject/1783457/\n",
      "\n",
      "指环王3：王者无敌,9.1,维果·莫腾森 伊利亚·伍德 西恩·奥斯汀 丽芙·泰勒 伊恩·麦克莱恩,https://movie.douban.com/subject/1291552/\n",
      "\n",
      "王牌特工：特工学院,8.4,塔伦·埃格顿 科林·费尔斯 塞缪尔·杰克逊 迈克尔·凯恩 马克·斯特朗,https://movie.douban.com/subject/24405378/\n",
      "\n",
      "岁月神偷,8.6,吴君如 任达华 钟绍图 李治廷 蔡颖恩,https://movie.douban.com/subject/3792799/\n",
      "\n",
      "乱世佳人,9.2,托马斯·米切尔 芭芭拉·欧内尔 费雯·丽 伊夫林·凯耶斯 安·卢瑟福德,https://movie.douban.com/subject/1300267/\n",
      "\n",
      "飞越疯人院,9.0,杰克·尼科尔森 丹尼·德维托 克里斯托弗·洛伊德 路易丝·弗莱彻 特德·马克兰德,https://movie.douban.com/subject/1292224/\n",
      "\n",
      "人在囧途,7.4,徐峥 王宝强 李曼 李小璐 左小青,https://movie.douban.com/subject/4237879/\n",
      "\n",
      "指环王2：双塔奇兵,8.9,伊利亚·伍德 西恩·奥斯汀 伊恩·麦克莱恩 维果·莫腾森 奥兰多·布鲁姆,https://movie.douban.com/subject/1291572/\n",
      "\n",
      "死亡诗社,8.9,罗宾·威廉姆斯 罗伯特·肖恩·莱纳德 伊桑·霍克 乔西·查尔斯 盖尔·汉森,https://movie.douban.com/subject/1291548/\n",
      "\n",
      "功夫,8.0,周星驰 元秋 元华 黄圣依 梁小龙,https://movie.douban.com/subject/1291543/\n",
      "\n",
      "爱乐之城,8.3,瑞恩·高斯林 艾玛·斯通 约翰·传奇 罗丝玛丽·德薇特 芬·维特洛克,https://movie.douban.com/subject/25934014/\n",
      "\n",
      "蝙蝠侠：黑暗骑士崛起,8.5,克里斯蒂安·贝尔 汤姆·哈迪 安妮·海瑟薇 约瑟夫·高登-莱维特 玛丽昂·歌迪亚,https://movie.douban.com/subject/3395373/\n",
      "\n",
      "被嫌弃的松子的一生,8.9,中谷美纪 瑛太 香川照之 市川实日子 伊势谷友介,https://movie.douban.com/subject/1787291/\n",
      "\n",
      "听说,8.1,彭于晏 陈意涵 陈妍希 罗北安 林美秀,https://movie.douban.com/subject/3824672/\n",
      "\n",
      "心灵捕手,8.7,马特·达蒙 罗宾·威廉姆斯 本·阿弗莱克 斯特兰·斯卡斯加德 明妮·德里弗,https://movie.douban.com/subject/1292656/\n",
      "\n",
      "驯龙高手,8.7,杰伊·巴鲁切尔 杰拉德·巴特勒 克雷格·费格森 亚美莉卡·费雷拉 乔纳·希尔,https://movie.douban.com/subject/2353023/\n",
      "\n",
      "他其实没那么喜欢你,7.7,詹妮弗·安妮斯顿 本·阿弗莱克 詹妮弗·康纳利 布莱德利·库珀 斯嘉丽·约翰逊,https://movie.douban.com/subject/2161696/\n",
      "\n"
     ]
    }
   ],
   "source": [
    "import requests\n",
    "import json\n",
    "import time\n",
    "for page in range(3):\n",
    "    url ='https://movie.douban.com/j/new_search_subjects?sort=T&range=0,10&tags=%E5%8A%B1%E5%BF%97&start={}'.format(page*20)\n",
    "    file = requests.get(url).json()\n",
    "    time.sleep(2)\n",
    "    \n",
    "    for i in range(20):\n",
    "        dict=file['data'][i]\n",
    "        url_name=dict['url']\n",
    "        title=dict['title']\n",
    "        rate=dict['rate']\n",
    "        cast=dict['casts']\n",
    "        print('{},{},{},{}\\n'.format(title,rate,' '.join(cast),url_name))"
   ]
  },
  {
   "cell_type": "code",
   "execution_count": 12,
   "metadata": {},
   "outputs": [
    {
     "data": {
      "text/plain": [
       "<http.client.HTTPResponse at 0x1c6cbff2470>"
      ]
     },
     "execution_count": 12,
     "metadata": {},
     "output_type": "execute_result"
    }
   ],
   "source": [
    "import urllib\n",
    "import urllib.request\n",
    "urllib.request.urlopen('http://www.sina.com.cn/')"
   ]
  },
  {
   "cell_type": "code",
   "execution_count": 13,
   "metadata": {
    "collapsed": true
   },
   "outputs": [],
   "source": [
    "import re"
   ]
  },
  {
   "cell_type": "code",
   "execution_count": null,
   "metadata": {
    "collapsed": true
   },
   "outputs": [],
   "source": []
  }
 ],
 "metadata": {
  "kernelspec": {
   "display_name": "Python 3",
   "language": "python",
   "name": "python3"
  },
  "language_info": {
   "codemirror_mode": {
    "name": "ipython",
    "version": 3
   },
   "file_extension": ".py",
   "mimetype": "text/x-python",
   "name": "python",
   "nbconvert_exporter": "python",
   "pygments_lexer": "ipython3",
   "version": "3.6.3"
  }
 },
 "nbformat": 4,
 "nbformat_minor": 2
}
